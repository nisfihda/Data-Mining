{
 "cells": [
  {
   "cell_type": "markdown",
   "metadata": {},
   "source": [
    "# Tugas Pre-Processing Data"
   ]
  },
  {
   "cell_type": "code",
   "execution_count": 14,
   "metadata": {},
   "outputs": [],
   "source": [
    "import pandas as pd\n",
    "import numpy as np"
   ]
  },
  {
   "cell_type": "code",
   "execution_count": 15,
   "metadata": {},
   "outputs": [],
   "source": [
    "data1=pd.read_csv(\"CRAFT.csv\",sep=\";\")"
   ]
  },
  {
   "cell_type": "code",
   "execution_count": 16,
   "metadata": {},
   "outputs": [
    {
     "data": {
      "text/plain": [
       "GameID                   0\n",
       "LeagueIndex              0\n",
       "Age                     55\n",
       "HoursPerWeek            56\n",
       "TotalHours              57\n",
       "APM                      0\n",
       "SelectByHotkeys          0\n",
       "AssignToHotkeys          0\n",
       "UniqueHotkeys            0\n",
       "MinimapAttacks           0\n",
       "MinimapRightClicks       0\n",
       "NumberOfPACs             0\n",
       "GapBetweenPACs           0\n",
       "ActionLatency            0\n",
       "ActionsInPAC             0\n",
       "TotalMapExplored         0\n",
       "WorkersMade              0\n",
       "UniqueUnitsMade          0\n",
       "ComplexUnitsMade         0\n",
       "ComplexAbilitiesUsed     0\n",
       "dtype: int64"
      ]
     },
     "execution_count": 16,
     "metadata": {},
     "output_type": "execute_result"
    }
   ],
   "source": [
    "data1.describe()\n",
    "np.sum(data1.isnull())"
   ]
  },
  {
   "cell_type": "code",
   "execution_count": 17,
   "metadata": {},
   "outputs": [
    {
     "data": {
      "text/plain": [
       "GameID                  0\n",
       "LeagueIndex             0\n",
       "Age                     0\n",
       "HoursPerWeek            0\n",
       "TotalHours              0\n",
       "APM                     0\n",
       "SelectByHotkeys         0\n",
       "AssignToHotkeys         0\n",
       "UniqueHotkeys           0\n",
       "MinimapAttacks          0\n",
       "MinimapRightClicks      0\n",
       "NumberOfPACs            0\n",
       "GapBetweenPACs          0\n",
       "ActionLatency           0\n",
       "ActionsInPAC            0\n",
       "TotalMapExplored        0\n",
       "WorkersMade             0\n",
       "UniqueUnitsMade         0\n",
       "ComplexUnitsMade        0\n",
       "ComplexAbilitiesUsed    0\n",
       "dtype: int64"
      ]
     },
     "execution_count": 17,
     "metadata": {},
     "output_type": "execute_result"
    }
   ],
   "source": [
    "data1['Age']=data1['Age'].fillna((data1['Age'].mean()))\n",
    "data1['HoursPerWeek']=data1['HoursPerWeek'].fillna((data1['HoursPerWeek'].mean()))\n",
    "data1['TotalHours']=data1['TotalHours'].fillna((data1['TotalHours'].mean()))\n",
    "np.sum(data1.isnull())"
   ]
  },
  {
   "cell_type": "code",
   "execution_count": 19,
   "metadata": {},
   "outputs": [
    {
     "name": "stdout",
     "output_type": "stream",
     "text": [
      "[[1.74772386 0.53780497 1.28301317 ... 0.28750617 0.53507146 0.5349699 ]\n",
      " [1.74662074 0.53780497 0.32412662 ... 0.82588645 0.53507146 0.24769891]\n",
      " [1.74625303 0.12134589 2.00217808 ... 0.28750617 0.53507146 0.17677344]\n",
      " ...\n",
      " [1.9440712  2.51525755 0.         ... 1.36426673 0.53507146 0.5349699 ]\n",
      " [1.94480661 2.51525755 0.         ... 0.28750617 0.53507146 1.84584096]\n",
      " [1.94517432 2.51525755 0.         ... 0.25087411 3.57810587 2.84007958]]\n",
      "(2781, 20)\n"
     ]
    }
   ],
   "source": [
    "from scipy import stats\n",
    "z=np.abs(stats.zscore(data1._get_numeric_data()))\n",
    "print(z)\n",
    "data1=data1[(z<3).all(axis=1)]\n",
    "print(data1.shape)"
   ]
  },
  {
   "cell_type": "code",
   "execution_count": null,
   "metadata": {},
   "outputs": [],
   "source": []
  }
 ],
 "metadata": {
  "kernelspec": {
   "display_name": "Python 3",
   "language": "python",
   "name": "python3"
  },
  "language_info": {
   "codemirror_mode": {
    "name": "ipython",
    "version": 3
   },
   "file_extension": ".py",
   "mimetype": "text/x-python",
   "name": "python",
   "nbconvert_exporter": "python",
   "pygments_lexer": "ipython3",
   "version": "3.7.1"
  }
 },
 "nbformat": 4,
 "nbformat_minor": 2
}
